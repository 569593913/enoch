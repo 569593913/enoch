{
 "cells": [
  {
   "cell_type": "code",
   "execution_count": 1,
   "metadata": {},
   "outputs": [],
   "source": [
    "from Selector import *\n",
    "import sys\n",
    "import time\n",
    "from datetime import datetime\n",
    "from view.HTML import show\n",
    "import json\n",
    "from indicators.MA import *\n",
    "from indicators.Gap import *\n",
    "# from indicators.Trend import *\n",
    "from strategy.sequence.MAStrategy import *\n",
    "from strategy.sequence.RStrategy import *\n",
    "from simulation.Simulator import *\n",
    "sys.path.append(\"../data\")\n",
    "import StockDao as sd\n",
    "from view.ViewDataFactory import *\n",
    "from strategy.sequence.StrategyS1 import *\n",
    "from simulation.Simulator import *"
   ]
  },
  {
   "cell_type": "code",
   "execution_count": 2,
   "metadata": {},
   "outputs": [],
   "source": [
    "def  up(list,i):\n",
    "    k = list[i]\n",
    "    pk = list[i-1]\n",
    "    if (k.low - pk.high)/pk.high > 0.01 and k.high == k.close and k.high > k.low:\n",
    "        return True\n",
    "    return False\n",
    "            "
   ]
  },
  {
   "cell_type": "code",
   "execution_count": 3,
   "metadata": {},
   "outputs": [],
   "source": [
    "def wave(list,i):\n",
    "    \"\"\"\n",
    "    \"\"\"\n",
    "    if len(list) < 40:\n",
    "        return False\n",
    "    current = i - 15\n",
    "    lk = list[i]\n",
    "    flag = False\n",
    "    bk = None\n",
    "    while current <= i:\n",
    "        k = list[current]\n",
    "        if not k.isUp():\n",
    "            current = current + 1\n",
    "            continue\n",
    "        k5 = list[current-5]\n",
    "        k10 = list[current-10]\n",
    "        k15 = list[current-15]\n",
    "        r5 = (k.close - k5.close)/k5.close\n",
    "        r10 = (k.close - k10.close)/k10.close\n",
    "        r15 = (k.close - k15.close)/k15.close\n",
    "        if r5 < -0.35:\n",
    "            return False\n",
    "        if r10 < -0.35:\n",
    "            return False\n",
    "        if r15 < -0.35:\n",
    "            return False\n",
    "        if lk.low > k5.high and r5 > 0.4:\n",
    "            flag = True\n",
    "            bk = k5\n",
    "        if lk.low > k10.high and r10 > 0.4:\n",
    "            flag = True\n",
    "            bk = k10\n",
    "        if lk.low > k15.high and r15 > 0.4:\n",
    "            flag = True\n",
    "            bk = k15\n",
    "        if (k.close - lk.close)/lk.close > 0.4:\n",
    "            return False\n",
    "        current = current + 1\n",
    "        \n",
    "    #如果当前跌得太多\n",
    "    if flag and (k.close - bk.close)/bk.close < 0.2:\n",
    "            return False\n",
    "    \n",
    "    return flag"
   ]
  },
  {
   "cell_type": "code",
   "execution_count": 4,
   "metadata": {},
   "outputs": [],
   "source": [
    "def down(list,i):\n",
    "    k = list[-1]\n",
    "    if not k.isDown():\n",
    "        return False\n",
    "    j = i-1\n",
    "    h = i - 4\n",
    "    while j>=h:\n",
    "        kc = list[j]\n",
    "        if kc.isDown() or kc.open < k.close:\n",
    "            return False\n",
    "        j = j - 1\n",
    "    return True\n",
    "        "
   ]
  },
  {
   "cell_type": "code",
   "execution_count": null,
   "metadata": {},
   "outputs": [],
   "source": [
    "def decide(list,i,trend,ma10,ma20,ma60,gap):\n",
    "        \"\"\"\n",
    "        策略\n",
    "        :param list: 测试数据\n",
    "        :param trader: 交易者\n",
    "        :param i: 当前在list中的位置\n",
    "        :return:\n",
    "        \"\"\"\n",
    "        k = list[i]\n",
    "        pre = list[i-1]\n",
    "        if gap.support(k.date,k.close,pre.minOC(),20) and k.isDown():\n",
    "            return True,1\n",
    "#         if up(list,i):\n",
    "#             return True,2\n",
    "#         if wave(list,i):\n",
    "#             return True,3\n",
    "        if down(list,i):\n",
    "            return True,4\n",
    "        return False,-1"
   ]
  },
  {
   "cell_type": "code",
   "execution_count": null,
   "metadata": {},
   "outputs": [],
   "source": [
    "def firgueF(self,code):\n",
    "    \"\"\"显示股票\"\"\"\n",
    "    #获取数据\n",
    "    begin = \"20160105\"\n",
    "    end = None\n",
    "#     begin = \"20150105\"\n",
    "#     end = '20160722'\n",
    "    listK = sd.get_k_data(code,begin ,end)\n",
    "    data,volume = ViewDataFactory.getCandlestick(listK)\n",
    "    madic = ViewDataFactory.getMA(listK,(20,60))\n",
    "    trendLine,trendMergeLine,trendBig = ViewDataFactory.getTrendLine(listK)\n",
    "    \n",
    "    #获取开始显示的时间\n",
    "    mDate = 0\n",
    "#     if len(data)>0:\n",
    "#         if len(listK)/2>abs(-250):\n",
    "#             mDate = data[-250][0]\n",
    "#         else:\n",
    "#             mDate = data[len(listK)/2][0]\n",
    "    if len(data)>100:\n",
    "        mDate = data[-100][0]\n",
    "    else:\n",
    "        mDate = data[len(data)][0]\n",
    "            \n",
    "    #显示\n",
    "    params = {}\n",
    "    params[\"code\"] = code\n",
    "    params[\"condition\"] = self.condition.get(code,-100)\n",
    "    params[\"mDate\"] = mDate\n",
    "    params[\"data\"] = json.dumps(data)\n",
    "    params[\"volume\"] = json.dumps(volume)\n",
    "    params[\"line20\"] = json.dumps(madic[20].line)\n",
    "    params[\"line60\"] = json.dumps(madic[60].line)\n",
    "    params[\"trendLine\"] = json.dumps(trendLine)\n",
    "    params[\"trendMergeLine\"] = json.dumps(trendMergeLine)\n",
    "    params[\"trendBig\"] = json.dumps(trendBig)\n",
    "    clear_output()\n",
    "    show(\"Selector.html\",params)\n",
    "   \n"
   ]
  },
  {
   "cell_type": "code",
   "execution_count": null,
   "metadata": {},
   "outputs": [],
   "source": [
    "class KB(Selector):\n",
    "    \"\"\"红绿红\"\"\"\n",
    "    condition = {}\n",
    "    def analyze(self,list):\n",
    "        \"\"\"分析股票\"\"\"\n",
    "#         if len(list) < 50:\n",
    "#             return False\n",
    "        i = 0\n",
    "        flag = False\n",
    "        trend = Trend()\n",
    "        ma10 = MA(10)\n",
    "        ma20 = MA(20)\n",
    "        ma60 = MA(60)\n",
    "        gap = Gap(0.05)\n",
    "        while i < len(list):\n",
    "            k = list[i]\n",
    "#             trend.add(k)\n",
    "#             ma10.add(k.date,k.close)\n",
    "#             ma20.add(k.date,k.close)\n",
    "#             ma60.add(k.date,k.close)\n",
    "            gap.fresh(k)\n",
    "            i += 1\n",
    "        flag,condition = decide(list,len(list)-1,trend,ma10,ma20,ma60,gap)\n",
    "        if flag == True:\n",
    "            self.condition[list[0].code] = condition\n",
    "        return flag\n",
    "    \n",
    "    def firgue(self,code):\n",
    "        \"\"\"显示股票\"\"\"\n",
    "        firgueF(self,code)\n"
   ]
  },
  {
   "cell_type": "code",
   "execution_count": null,
   "metadata": {},
   "outputs": [
    {
     "name": "stdout",
     "output_type": "stream",
     "text": [
      "selecting......\n"
     ]
    }
   ],
   "source": [
    "kb = KB(True,'20180101')\n",
    "\n"
   ]
  },
  {
   "cell_type": "code",
   "execution_count": null,
   "metadata": {},
   "outputs": [],
   "source": [
    "for code in kb.codes:\n",
    "    print(code.split('.')[0])"
   ]
  }
 ],
 "metadata": {
  "kernelspec": {
   "display_name": "Python 3",
   "language": "python",
   "name": "python3"
  },
  "language_info": {
   "codemirror_mode": {
    "name": "ipython",
    "version": 3
   },
   "file_extension": ".py",
   "mimetype": "text/x-python",
   "name": "python",
   "nbconvert_exporter": "python",
   "pygments_lexer": "ipython3",
   "version": "3.7.2"
  }
 },
 "nbformat": 4,
 "nbformat_minor": 2
}
