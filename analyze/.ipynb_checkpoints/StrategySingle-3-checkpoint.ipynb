{
 "cells": [
  {
   "cell_type": "code",
   "execution_count": 1,
   "metadata": {
    "collapsed": true
   },
   "outputs": [],
   "source": [
    "from Selector import *\n",
    "import sys\n",
    "import time\n",
    "from datetime import datetime\n",
    "from view.HTML import show\n",
    "import json\n",
    "from indicators.MA import *\n",
    "from indicators.TrendArea import *\n",
    "from strategy.sequence.MAStrategyS import *\n",
    "from strategy.sequence.RStrategyS import *\n",
    "from simulation.SimulatorS import *\n",
    "sys.path.append(\"../data\")\n",
    "import KDataDao as kds\n",
    "from view.ViewDataFactory import *\n",
    "from strategy.sequence.StrategyS1 import *\n",
    "from strategy.component.buy.BuyA import *\n",
    "from strategy.component.buy.BuyB import *\n",
    "from strategy.component.buy.BuyC import *\n",
    "from strategy.component.buy.BuyD import *\n",
    "from strategy.component.buy.BuyBS import *\n",
    "from strategy.component.buy.BuyZone import *\n",
    "from strategy.component.sell.SellA import *\n",
    "from strategy.component.sell.SellB import *\n",
    "from strategy.component.sell.SellC import *\n",
    "from strategy.component.sell.SellK import *\n",
    "from strategy.component.sell.SellBS import *\n",
    "from strategy.component.sell.SellZone  import *\n",
    "from strategy.component.sell.SellS import *\n",
    "from strategy.component.ConditionBean import *"
   ]
  },
  {
   "cell_type": "code",
   "execution_count": null,
   "metadata": {
    "collapsed": true
   },
   "outputs": [],
   "source": []
  },
  {
   "cell_type": "code",
   "execution_count": 2,
   "metadata": {
    "collapsed": true
   },
   "outputs": [],
   "source": [
    "class TStrategy:\n",
    "    \"\"\"\n",
    "    趋势策略\n",
    "    \"\"\"\n",
    "    def __init__(self,trader=None,listK=None):\n",
    "        self.point = 0 \n",
    "        self.trend = TrendArea()\n",
    "        self.condtionBean = ConditionBean()\n",
    "        self.listK = None\n",
    "        self.trader = None\n",
    "        self.buyK = None\n",
    "        self.buys = [\n",
    "#             BuyA(self.trader,self.listK,self.trend,self.condtionBean),\n",
    "#             BuyB(self.trader,self.listK,self.trend,self.condtionBean),\n",
    "#             BuyC(self.trader,self.listK,self.trend,self.condtionBean),\n",
    "#             BuyD(self.trader,self.listK,self.trend,self.condtionBean),\n",
    "#             BuyZone(self.trader,self.listK,self.trend,self.condtionBean),\n",
    "            BuyBS(self.trader,self.listK,self.trend,self.condtionBean)\n",
    "        ]\n",
    "        self.sells = [\n",
    "#             SellA(self.trader,self.trend,self.listK,['a','b','c','d'],self.condtionBean),\n",
    "#             SellB(self.trader,self.trend,self.listK,['a','b','c','d'],self.condtionBean),\n",
    "#             SellC(self.trader,self.trend,self.listK,['a','b','c','d'],self.condtionBean),\n",
    "#             SellK(self.trader,self.trend,self.listK,['b','c','d'],self.condtionBean),\n",
    "            SellS(self.trader,self.trend,self.listK,['bs'],self.condtionBean),\n",
    "#             SellZone(self.trader,self.trend,self.listK,['z'],self.condtionBean),\n",
    "            SellBS(self.trader,self.trend,self.listK,['bs'],self.condtionBean)\n",
    "        ]\n",
    "    def init(self,trader,listK):\n",
    "        self.trader = trader\n",
    "        self.listK = listK\n",
    "        self.trend = TrendArea()\n",
    "        self.condtionBean = ConditionBean()\n",
    "        for buy in self.buys:\n",
    "            buy.init(trader,listK,self.trend,self.condtionBean)\n",
    "        for sell in self.sells:\n",
    "            sell.init(trader,listK,self.trend,self.condtionBean)\n",
    "    def decide(self,k):\n",
    "        self.trend.add(k)\n",
    "        self.listK.append(k)\n",
    "        if self.trader.isHold(k.code):\n",
    "            for sell in self.sells:\n",
    "                sellCondition = sell.decide(kl,self.condition,self.trend)\n",
    "                if sellCondition != None:\n",
    "                    self.trader.sell(k.code,k.date,k.close,condition=sellCondition)\n",
    "                    self.condition = None\n",
    "                    return\n",
    "        else:\n",
    "            for buy in self.buys:\n",
    "                condition = buy.decide(kl,self.trend)\n",
    "                if condition != None:\n",
    "                    self.condition = condition\n",
    "                    self.trader.buy(k.code, k.date, k.close,self.trader.cash, condition)\n",
    "        \n",
    "            \n",
    "            "
   ]
  },
  {
   "cell_type": "code",
   "execution_count": 3,
   "metadata": {
    "collapsed": true
   },
   "outputs": [],
   "source": [
    "class KStrategy:\n",
    "    \"\"\"\n",
    "    K线策略\n",
    "    \"\"\"\n",
    "    def __init__(self,trader=None,listK=None):\n",
    "        \"\"\"\"\"\"\n",
    "        self.listK = listK\n",
    "        self.trader = trader\n",
    "        \n",
    "    def init(self,trader,listK):\n",
    "        \"\"\"\"\"\"\n",
    "        self.listK = listK\n",
    "        self.trader = trader\n",
    "        \n",
    "    def decide(self,i):\n",
    "        k = self.listK[i]\n",
    "        if self.trader.isHold(k.code):\n",
    "            if k.isDown():\n",
    "                self.trader.sell(k.code, k.date, k.close, condition=\"k1\")\n",
    "        else:\n",
    "            if k.isUp():\n",
    "                self.trader.buy(k.code, k.date, k.close, condition=\"k1\")"
   ]
  },
  {
   "cell_type": "code",
   "execution_count": 4,
   "metadata": {
    "collapsed": true
   },
   "outputs": [],
   "source": [
    "def firgueF(code):\n",
    "    \"\"\"显示股票\"\"\"\n",
    "    clear_output()\n",
    "    #获取数据\n",
    "#     code = '002390'\n",
    "#     code = '300051'\n",
    "#     code = '002653'\n",
    "#     code = '000782'\n",
    "#     begin = \"2013-06-05\"\n",
    "#     end = \"2016-11-07\"\n",
    "    begin = \"2014-11-02\"\n",
    "    end = '2015-09-08'\n",
    "#     end = '2015-03-12'\n",
    "    listK = kd.get_k_data(code,begin ,end)\n",
    "    data,volume = ViewDataFactory.getCandlestick(listK)\n",
    "    madic = ViewDataFactory.getMA(listK,(20,60))\n",
    "    \n",
    "    ts = TStrategy()\n",
    "    sim = SimulatorS(ts)\n",
    "    sim.runSingle(code,begin=begin,end=end)\n",
    "    flags = ViewDataFactory.getTradeFlag(sim.trader.record,'#2AEBAF')\n",
    "    earningsLine = sim.trader.earningsLine\n",
    "    trendLine,trendMergeLine,trendBig = ViewDataFactory.trend2Line(ts.trend)\n",
    "    areaRange = ViewDataFactory.trend2AreaRang(ts.trend,listK)\n",
    "#     print areaRange\n",
    "    \n",
    "    mas = MAStrategyS(60)\n",
    "    sim = SimulatorS(mas)\n",
    "    sim.runSingle(code,begin=begin,end=end)\n",
    "    maFlags = ViewDataFactory.getTradeFlag(sim.trader.record,'#2AEBAF')\n",
    "    maEarningsLine = sim.trader.earningsLine\n",
    "    \n",
    "    ks = KStrategy()\n",
    "    sim = SimulatorS(ks)\n",
    "    sim.runSingle(code,begin=begin,end=end)\n",
    "    kEarningsLine = sim.trader.earningsLine\n",
    "    \n",
    "    sim = SimulatorS(RStrategyS())\n",
    "    sim.runSingle(code,begin=begin,end=end)\n",
    "    rLine = sim.trader.earningsLine\n",
    "    #获取开始显示的时间\n",
    "    mDate = 0\n",
    "    if len(data)>0:\n",
    "        if len(listK)/2>abs(-250):\n",
    "            mDate = data[-250][0]\n",
    "        else:\n",
    "            mDate = data[len(listK)/2][0]\n",
    "            \n",
    "    #显示\n",
    "    params = {}\n",
    "    params[\"code\"] = code\n",
    "    params[\"mDate\"] = mDate\n",
    "    params[\"data\"] = json.dumps(data)\n",
    "    params[\"volume\"] = json.dumps(volume)\n",
    "    params[\"earningsLine\"] = json.dumps(earningsLine)\n",
    "    params[\"maEarningsLine\"] = json.dumps(maEarningsLine)\n",
    "    params[\"kEarningsLine\"] = json.dumps(kEarningsLine)\n",
    "    params[\"rLine\"] = json.dumps(rLine)\n",
    "    params[\"maFlags\"] = json.dumps(maFlags)\n",
    "    params[\"flags\"] = json.dumps(flags)\n",
    "    params[\"line20\"] = json.dumps(madic[20].line)\n",
    "    params[\"line60\"] = json.dumps(madic[60].line)\n",
    "    params[\"trendLine\"] = json.dumps(trendLine)\n",
    "    params[\"trendMergeLine\"] = json.dumps(trendMergeLine)\n",
    "    params[\"trendBig\"] = json.dumps(trendBig)\n",
    "    params[\"areaRange\"] = json.dumps(areaRange)\n",
    "    \n",
    "    show(\"StrategyArea.html\",params)\n",
    "    \n",
    "#     show(\"StrategySingle.html\",params)\n"
   ]
  },
  {
   "cell_type": "code",
   "execution_count": 5,
   "metadata": {
    "collapsed": true
   },
   "outputs": [],
   "source": [
    "class KB(Selector):\n",
    "    \"\"\"红绿红\"\"\"\n",
    "    \n",
    "    def analyze(self,list):\n",
    "        \"\"\"分析股票\"\"\"\n",
    "        if True:\n",
    "            return True\n",
    "#         if (\n",
    "#                         abs((list[-1].maxOC() - list[-3].maxOC()) / list[-3].maxOC()) < 0.03\n",
    "#                 and list[-1].ratio() > 0.01\n",
    "#             and list[-2].ratio() < -0.01\n",
    "#         and list[-3].ratio() > 0.01):\n",
    "#             return True\n",
    "        mx,mn = HLRatio(len(list)-1,250,list)\n",
    "        if mx > 1:\n",
    "            return True\n",
    "        return False\n",
    "    \n",
    "    def firgue(self,code):\n",
    "        \"\"\"显示股票\"\"\"\n",
    "        firgueF(code)"
   ]
  },
  {
   "cell_type": "code",
   "execution_count": 6,
   "metadata": {
    "scrolled": false
   },
   "outputs": [
    {
     "name": "stderr",
     "output_type": "stream",
     "text": [
      "Widget Javascript not detected.  It may not be installed or enabled properly.\n"
     ]
    },
    {
     "data": {
      "application/vnd.jupyter.widget-view+json": {
       "model_id": "14c38b92dbfc4d73bfe021ca157b6ce6"
      }
     },
     "metadata": {},
     "output_type": "display_data"
    }
   ],
   "source": [
    "kb = KB(False)\n"
   ]
  },
  {
   "cell_type": "code",
   "execution_count": null,
   "metadata": {
    "collapsed": true
   },
   "outputs": [],
   "source": []
  },
  {
   "cell_type": "code",
   "execution_count": null,
   "metadata": {
    "collapsed": true
   },
   "outputs": [],
   "source": []
  },
  {
   "cell_type": "code",
   "execution_count": null,
   "metadata": {
    "collapsed": true
   },
   "outputs": [],
   "source": []
  },
  {
   "cell_type": "code",
   "execution_count": null,
   "metadata": {
    "collapsed": true
   },
   "outputs": [],
   "source": []
  },
  {
   "cell_type": "code",
   "execution_count": null,
   "metadata": {
    "collapsed": true
   },
   "outputs": [],
   "source": []
  },
  {
   "cell_type": "code",
   "execution_count": null,
   "metadata": {
    "collapsed": true
   },
   "outputs": [],
   "source": []
  },
  {
   "cell_type": "code",
   "execution_count": null,
   "metadata": {
    "collapsed": true
   },
   "outputs": [],
   "source": []
  },
  {
   "cell_type": "code",
   "execution_count": null,
   "metadata": {
    "collapsed": true
   },
   "outputs": [],
   "source": []
  },
  {
   "cell_type": "code",
   "execution_count": null,
   "metadata": {
    "collapsed": true
   },
   "outputs": [],
   "source": []
  },
  {
   "cell_type": "code",
   "execution_count": null,
   "metadata": {
    "collapsed": true
   },
   "outputs": [],
   "source": []
  },
  {
   "cell_type": "code",
   "execution_count": null,
   "metadata": {
    "collapsed": true
   },
   "outputs": [],
   "source": []
  },
  {
   "cell_type": "code",
   "execution_count": null,
   "metadata": {
    "collapsed": true
   },
   "outputs": [],
   "source": []
  },
  {
   "cell_type": "code",
   "execution_count": null,
   "metadata": {
    "collapsed": true
   },
   "outputs": [],
   "source": []
  },
  {
   "cell_type": "code",
   "execution_count": null,
   "metadata": {
    "collapsed": true
   },
   "outputs": [],
   "source": []
  },
  {
   "cell_type": "code",
   "execution_count": null,
   "metadata": {
    "collapsed": true
   },
   "outputs": [],
   "source": []
  },
  {
   "cell_type": "code",
   "execution_count": null,
   "metadata": {
    "collapsed": true
   },
   "outputs": [],
   "source": []
  }
 ],
 "metadata": {
  "kernelspec": {
   "display_name": "Python 2",
   "language": "python",
   "name": "python2"
  },
  "language_info": {
   "codemirror_mode": {
    "name": "ipython",
    "version": 2
   },
   "file_extension": ".py",
   "mimetype": "text/x-python",
   "name": "python",
   "nbconvert_exporter": "python",
   "pygments_lexer": "ipython2",
   "version": "2.7.10"
  }
 },
 "nbformat": 4,
 "nbformat_minor": 1
}
