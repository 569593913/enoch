{
 "cells": [
  {
   "cell_type": "code",
   "execution_count": 1,
   "metadata": {},
   "outputs": [],
   "source": [
    "from Selector import *\n",
    "import sys\n",
    "import time\n",
    "from view.HTML import show\n",
    "import json\n",
    "from indicators.MA import *\n",
    "from simulation.Simulator import *\n",
    "from indicators.Trend import *\n",
    "sys.path.append(\"../data\")\n",
    "import KDataDao as kds\n",
    "from view.ViewDataFactory import *\n",
    "from strategy.sequence.StrategyS1 import *\n",
    "from simulation.SequenceSimulatorS import *\n",
    "from simulation.ParallelSimulator import *\n",
    "from strategy.sequence.MAStrategyS import *\n",
    "from strategy.sequence.RStrategy import *\n",
    "from indicators.TrendArea import *\n",
    "from strategy.parallel.StrategyP import *\n",
    "from strategy.parallel.BuyA import *\n",
    "from strategy.parallel.SellA import *\n",
    "from strategy.parallel.SellB import *\n",
    "from strategy.parallel.SellS import *\n",
    "from strategy.component.ConditionBean import *"
   ]
  },
  {
   "cell_type": "code",
   "execution_count": null,
   "metadata": {},
   "outputs": [],
   "source": []
  },
  {
   "cell_type": "code",
   "execution_count": null,
   "metadata": {},
   "outputs": [],
   "source": []
  },
  {
   "cell_type": "code",
   "execution_count": 2,
   "metadata": {},
   "outputs": [],
   "source": [
    "class KStrategy:\n",
    "    \"\"\"\n",
    "    K线策略\n",
    "    \"\"\"\n",
    "    def __init__(self,trader=None,listK=None):\n",
    "        self.point = 0 \n",
    "        self.trend = TrendArea()\n",
    "        self.condition = None\n",
    "        self.listK = None\n",
    "        self.trader = None\n",
    "    def init(self,trader,listK):\n",
    "        self.trader = trader\n",
    "        self.listK = listK\n",
    "        self.trend = TrendArea()\n",
    "    def decide(self,i):\n",
    "        k = self.listK[i]\n",
    "        if self.trader.isHold(k.code):\n",
    "            if k.isDown():\n",
    "                self.trader.sell(k.code, k.date, k.close, condition=\"k1\")\n",
    "        else:\n",
    "            if k.isUp():\n",
    "                self.trader.buy(k.code, k.date, k.close, condition=\"k1\")"
   ]
  },
  {
   "cell_type": "code",
   "execution_count": null,
   "metadata": {},
   "outputs": [],
   "source": []
  },
  {
   "cell_type": "code",
   "execution_count": 3,
   "metadata": {},
   "outputs": [
    {
     "name": "stdout",
     "output_type": "stream",
     "text": [
      "runing......\n",
      "complete 1.019528865814209 second\n"
     ]
    }
   ],
   "source": [
    "#测试策略\n",
    "# bDate = \"2008-06-05\"\n",
    "bDate = \"2015-03-05\"\n",
    "eDate = \"2016-11-07\"\n",
    "market = \"sza\"\n",
    "begin = time.time()\n",
    "print('runing......')\n",
    "trader = Trader()\n",
    "buys = [BuyA()]\n",
    "sells = [SellA(\"a\"),SellB('a'),SellS(\"a\")]\n",
    "s1 = StrategyP(trader,buys,sells)\n",
    "# s1 = MAStrategyS(30)\n",
    "sim1 = ParallelSimulator(s1)\n",
    "sim1.run(market,bDate,eDate)\n",
    "print('complete %s second' %  (time.time()-begin))"
   ]
  },
  {
   "cell_type": "code",
   "execution_count": 4,
   "metadata": {},
   "outputs": [],
   "source": [
    "# begin = time.time()\n",
    "# print 'runing......'\n",
    "# s12 = KStrategy2()\n",
    "# sim12 = SequenceSimulator(s12)\n",
    "# sim12.run(market,bDate,eDate,threadCount=0)\n",
    "# print 'complete %s second' %  (time.time()-begin)"
   ]
  },
  {
   "cell_type": "code",
   "execution_count": 5,
   "metadata": {},
   "outputs": [
    {
     "name": "stdout",
     "output_type": "stream",
     "text": [
      "runing......\n",
      "thread-main begin run\n",
      "thread-main end run\n",
      "complete 27.306427001953125 second\n"
     ]
    }
   ],
   "source": [
    "#均线策略\n",
    "begin = time.time()\n",
    "print('runing......')\n",
    "s2 = MAStrategyS(60)\n",
    "sim2 = SequenceSimulatorS(s2)\n",
    "sim2.run(market,bDate,eDate,threadCount=0)\n",
    "print('complete %s second' %  (time.time()-begin))"
   ]
  },
  {
   "cell_type": "code",
   "execution_count": 6,
   "metadata": {},
   "outputs": [
    {
     "name": "stdout",
     "output_type": "stream",
     "text": [
      "runing......\n",
      "thread-main begin run\n"
     ]
    },
    {
     "ename": "TypeError",
     "evalue": "list indices must be integers or slices, not K",
     "output_type": "error",
     "traceback": [
      "\u001b[0;31m---------------------------------------------------------------------------\u001b[0m",
      "\u001b[0;31mTypeError\u001b[0m                                 Traceback (most recent call last)",
      "\u001b[0;32m<ipython-input-6-c32d412ee0dc>\u001b[0m in \u001b[0;36m<module>\u001b[0;34m\u001b[0m\n\u001b[1;32m      4\u001b[0m \u001b[0mks\u001b[0m \u001b[0;34m=\u001b[0m \u001b[0mKStrategy\u001b[0m\u001b[0;34m(\u001b[0m\u001b[0;34m)\u001b[0m\u001b[0;34m\u001b[0m\u001b[0;34m\u001b[0m\u001b[0m\n\u001b[1;32m      5\u001b[0m \u001b[0msimK\u001b[0m \u001b[0;34m=\u001b[0m \u001b[0mSequenceSimulatorS\u001b[0m\u001b[0;34m(\u001b[0m\u001b[0mks\u001b[0m\u001b[0;34m)\u001b[0m\u001b[0;34m\u001b[0m\u001b[0;34m\u001b[0m\u001b[0m\n\u001b[0;32m----> 6\u001b[0;31m \u001b[0msimK\u001b[0m\u001b[0;34m.\u001b[0m\u001b[0mrun\u001b[0m\u001b[0;34m(\u001b[0m\u001b[0mmarket\u001b[0m\u001b[0;34m,\u001b[0m\u001b[0mbDate\u001b[0m\u001b[0;34m,\u001b[0m\u001b[0meDate\u001b[0m\u001b[0;34m,\u001b[0m\u001b[0mthreadCount\u001b[0m\u001b[0;34m=\u001b[0m\u001b[0;36m0\u001b[0m\u001b[0;34m)\u001b[0m\u001b[0;34m\u001b[0m\u001b[0;34m\u001b[0m\u001b[0m\n\u001b[0m\u001b[1;32m      7\u001b[0m \u001b[0mprint\u001b[0m\u001b[0;34m(\u001b[0m\u001b[0;34m'complete %s second'\u001b[0m \u001b[0;34m%\u001b[0m  \u001b[0;34m(\u001b[0m\u001b[0mtime\u001b[0m\u001b[0;34m.\u001b[0m\u001b[0mtime\u001b[0m\u001b[0;34m(\u001b[0m\u001b[0;34m)\u001b[0m\u001b[0;34m-\u001b[0m\u001b[0mbegin\u001b[0m\u001b[0;34m)\u001b[0m\u001b[0;34m)\u001b[0m\u001b[0;34m\u001b[0m\u001b[0;34m\u001b[0m\u001b[0m\n",
      "\u001b[0;32m~/PycharmProjects/enoch/analyze/simulation/SequenceSimulatorS.py\u001b[0m in \u001b[0;36mrun\u001b[0;34m(self, market, begin, end, sequenceStrategy, threadCount)\u001b[0m\n\u001b[1;32m     91\u001b[0m             \u001b[0mt\u001b[0m\u001b[0;34m.\u001b[0m\u001b[0mstart\u001b[0m\u001b[0;34m(\u001b[0m\u001b[0;34m)\u001b[0m\u001b[0;34m\u001b[0m\u001b[0;34m\u001b[0m\u001b[0m\n\u001b[1;32m     92\u001b[0m             \u001b[0mthreads\u001b[0m\u001b[0;34m.\u001b[0m\u001b[0mappend\u001b[0m\u001b[0;34m(\u001b[0m\u001b[0mt\u001b[0m\u001b[0;34m)\u001b[0m\u001b[0;34m\u001b[0m\u001b[0;34m\u001b[0m\u001b[0m\n\u001b[0;32m---> 93\u001b[0;31m         \u001b[0mthreadMethod\u001b[0m\u001b[0;34m(\u001b[0m\u001b[0;34m'thread-main'\u001b[0m\u001b[0;34m)\u001b[0m\u001b[0;34m\u001b[0m\u001b[0;34m\u001b[0m\u001b[0m\n\u001b[0m\u001b[1;32m     94\u001b[0m         \u001b[0;32mfor\u001b[0m \u001b[0mt\u001b[0m \u001b[0;32min\u001b[0m \u001b[0mthreads\u001b[0m\u001b[0;34m:\u001b[0m\u001b[0;34m\u001b[0m\u001b[0;34m\u001b[0m\u001b[0m\n\u001b[1;32m     95\u001b[0m             \u001b[0mt\u001b[0m\u001b[0;34m.\u001b[0m\u001b[0mjoin\u001b[0m\u001b[0;34m(\u001b[0m\u001b[0;34m)\u001b[0m\u001b[0;34m\u001b[0m\u001b[0;34m\u001b[0m\u001b[0m\n",
      "\u001b[0;32m~/PycharmProjects/enoch/analyze/simulation/SequenceSimulatorS.py\u001b[0m in \u001b[0;36mthreadMethod\u001b[0;34m(name)\u001b[0m\n\u001b[1;32m     82\u001b[0m                 \u001b[0msequenceStrategy\u001b[0m\u001b[0;34m.\u001b[0m\u001b[0minit\u001b[0m\u001b[0;34m(\u001b[0m\u001b[0mtrader\u001b[0m\u001b[0;34m,\u001b[0m\u001b[0mlist\u001b[0m\u001b[0;34m)\u001b[0m\u001b[0;34m\u001b[0m\u001b[0;34m\u001b[0m\u001b[0m\n\u001b[1;32m     83\u001b[0m                 \u001b[0;32mfor\u001b[0m \u001b[0mk\u001b[0m \u001b[0;32min\u001b[0m \u001b[0mlist\u001b[0m\u001b[0;34m:\u001b[0m\u001b[0;34m\u001b[0m\u001b[0;34m\u001b[0m\u001b[0m\n\u001b[0;32m---> 84\u001b[0;31m                     \u001b[0msequenceStrategy\u001b[0m\u001b[0;34m.\u001b[0m\u001b[0mdecide\u001b[0m\u001b[0;34m(\u001b[0m\u001b[0mk\u001b[0m\u001b[0;34m)\u001b[0m\u001b[0;34m\u001b[0m\u001b[0;34m\u001b[0m\u001b[0m\n\u001b[0m\u001b[1;32m     85\u001b[0m                     \u001b[0mtrader\u001b[0m\u001b[0;34m.\u001b[0m\u001b[0mfresh\u001b[0m\u001b[0;34m(\u001b[0m\u001b[0mk\u001b[0m\u001b[0;34m.\u001b[0m\u001b[0mdate\u001b[0m\u001b[0;34m,\u001b[0m \u001b[0;34m{\u001b[0m\u001b[0mcode\u001b[0m\u001b[0;34m:\u001b[0m\u001b[0mk\u001b[0m\u001b[0;34m.\u001b[0m\u001b[0mclose\u001b[0m\u001b[0;34m}\u001b[0m\u001b[0;34m)\u001b[0m\u001b[0;34m\u001b[0m\u001b[0;34m\u001b[0m\u001b[0m\n\u001b[1;32m     86\u001b[0m \u001b[0;34m\u001b[0m\u001b[0m\n",
      "\u001b[0;32m<ipython-input-2-00c89592b8d9>\u001b[0m in \u001b[0;36mdecide\u001b[0;34m(self, i)\u001b[0m\n\u001b[1;32m     14\u001b[0m         \u001b[0mself\u001b[0m\u001b[0;34m.\u001b[0m\u001b[0mtrend\u001b[0m \u001b[0;34m=\u001b[0m \u001b[0mTrendArea\u001b[0m\u001b[0;34m(\u001b[0m\u001b[0;34m)\u001b[0m\u001b[0;34m\u001b[0m\u001b[0;34m\u001b[0m\u001b[0m\n\u001b[1;32m     15\u001b[0m     \u001b[0;32mdef\u001b[0m \u001b[0mdecide\u001b[0m\u001b[0;34m(\u001b[0m\u001b[0mself\u001b[0m\u001b[0;34m,\u001b[0m\u001b[0mi\u001b[0m\u001b[0;34m)\u001b[0m\u001b[0;34m:\u001b[0m\u001b[0;34m\u001b[0m\u001b[0;34m\u001b[0m\u001b[0m\n\u001b[0;32m---> 16\u001b[0;31m         \u001b[0mk\u001b[0m \u001b[0;34m=\u001b[0m \u001b[0mself\u001b[0m\u001b[0;34m.\u001b[0m\u001b[0mlistK\u001b[0m\u001b[0;34m[\u001b[0m\u001b[0mi\u001b[0m\u001b[0;34m]\u001b[0m\u001b[0;34m\u001b[0m\u001b[0;34m\u001b[0m\u001b[0m\n\u001b[0m\u001b[1;32m     17\u001b[0m         \u001b[0;32mif\u001b[0m \u001b[0mself\u001b[0m\u001b[0;34m.\u001b[0m\u001b[0mtrader\u001b[0m\u001b[0;34m.\u001b[0m\u001b[0misHold\u001b[0m\u001b[0;34m(\u001b[0m\u001b[0mk\u001b[0m\u001b[0;34m.\u001b[0m\u001b[0mcode\u001b[0m\u001b[0;34m)\u001b[0m\u001b[0;34m:\u001b[0m\u001b[0;34m\u001b[0m\u001b[0;34m\u001b[0m\u001b[0m\n\u001b[1;32m     18\u001b[0m             \u001b[0;32mif\u001b[0m \u001b[0mk\u001b[0m\u001b[0;34m.\u001b[0m\u001b[0misDown\u001b[0m\u001b[0;34m(\u001b[0m\u001b[0;34m)\u001b[0m\u001b[0;34m:\u001b[0m\u001b[0;34m\u001b[0m\u001b[0;34m\u001b[0m\u001b[0m\n",
      "\u001b[0;31mTypeError\u001b[0m: list indices must be integers or slices, not K"
     ]
    }
   ],
   "source": [
    "#K线策略\n",
    "begin = time.time()\n",
    "print('runing......')\n",
    "ks = KStrategy()\n",
    "simK = SequenceSimulatorS(ks)\n",
    "simK.run(market,bDate,eDate,threadCount=0)\n",
    "print('complete %s second' %  (time.time()-begin))"
   ]
  },
  {
   "cell_type": "code",
   "execution_count": null,
   "metadata": {},
   "outputs": [],
   "source": [
    "#择时收益\n",
    "sim3 = Simulator(RStrategy())\n",
    "sim3.runSingle('zs_000001',begin=bDate,end=eDate)"
   ]
  },
  {
   "cell_type": "code",
   "execution_count": null,
   "metadata": {},
   "outputs": [],
   "source": [
    "listK = kd.get_k_data('zs_000001',bDate,eDate)\n",
    "data,volume = ViewDataFactory.getCandlestick(listK)"
   ]
  },
  {
   "cell_type": "code",
   "execution_count": null,
   "metadata": {
    "scrolled": false
   },
   "outputs": [],
   "source": [
    "avgEarningsLine = sim1.trader.earningsLine\n",
    "\n",
    "oddsLine,win,lose,odds = sim2.getOdds()\n",
    "# avgEarningsLine2,maxCode2,maxEarningsLine2,minCode2,minEarningsLine2 = sim12.earningsLines()\n",
    "maEarningsLine,maxCode,maxEarningsLine,minCode,minEarningsLine = sim2.earningsLines()\n",
    "kEarningsLine,kMaxCode,kMaxEarningsLine,kMinCode,kMinEarningsLine = simK.earningsLines()\n",
    "\n",
    "rEarningsLine = sim3.trader.earningsLine\n",
    "\n",
    "\n",
    "params = {}\n",
    "params[\"maxCode\"] = maxCode\n",
    "params[\"minCode\"] = minCode\n",
    "params[\"avgEarningsLine\"] = json.dumps(avgEarningsLine)\n",
    "params[\"avgEarningsLine2\"] = {}#json.dumps(avgEarningsLine2)\n",
    "params[\"maxEarningsLine\"] = json.dumps(maxEarningsLine)\n",
    "params[\"minEarningsLine\"] = json.dumps(minEarningsLine)\n",
    "params[\"maEarningsLine\"] = json.dumps(maEarningsLine)\n",
    "params[\"rEarningsLine\"] = json.dumps(rEarningsLine)\n",
    "params[\"kEarningsLine\"] = json.dumps(kEarningsLine)\n",
    "params[\"oddsLine\"] = json.dumps(oddsLine)\n",
    "params[\"win\"] = json.dumps(win)\n",
    "params[\"lose\"] = json.dumps(lose)\n",
    "params[\"odds\"] = json.dumps(odds)\n",
    "params[\"data\"] = json.dumps(data)\n",
    "params[\"volume\"] = json.dumps(volume)\n",
    "clear_output()\n",
    "s = show(\"Strategy.html\",params)\n"
   ]
  },
  {
   "cell_type": "code",
   "execution_count": null,
   "metadata": {},
   "outputs": [],
   "source": []
  },
  {
   "cell_type": "code",
   "execution_count": null,
   "metadata": {},
   "outputs": [],
   "source": []
  }
 ],
 "metadata": {
  "kernelspec": {
   "display_name": "Python 3",
   "language": "python",
   "name": "python3"
  },
  "language_info": {
   "codemirror_mode": {
    "name": "ipython",
    "version": 3
   },
   "file_extension": ".py",
   "mimetype": "text/x-python",
   "name": "python",
   "nbconvert_exporter": "python",
   "pygments_lexer": "ipython3",
   "version": "3.7.2"
  }
 },
 "nbformat": 4,
 "nbformat_minor": 1
}
