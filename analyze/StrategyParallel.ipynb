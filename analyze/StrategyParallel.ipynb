{
 "cells": [
  {
   "cell_type": "code",
   "execution_count": null,
   "metadata": {
    "collapsed": true
   },
   "outputs": [],
   "source": [
    "from Selector import *\n",
    "import sys\n",
    "import time\n",
    "from view.HTML import show\n",
    "import json\n",
    "from indicators.MA import *\n",
    "from simulation.Simulator import *\n",
    "from indicators.Trend import *\n",
    "sys.path.append(\"../data\")\n",
    "import KDataDao as kds\n",
    "from view.ViewDataFactory import *\n",
    "from strategy.sequence.StrategyS1 import *\n",
    "from simulation.SequenceSimulatorS import *\n",
    "from simulation.ParallelSimulator import *\n",
    "from strategy.sequence.MAStrategyS import *\n",
    "from strategy.sequence.RStrategy import *\n",
    "from indicators.TrendArea import *\n",
    "from strategy.parallel.StrategyP import *\n",
    "from strategy.parallel.BuyA import *\n",
    "from strategy.parallel.SellA import *\n",
    "from strategy.parallel.SellB import *\n",
    "from strategy.parallel.SellS import *\n",
    "from strategy.component.ConditionBean import *"
   ]
  },
  {
   "cell_type": "code",
   "execution_count": null,
   "metadata": {
    "collapsed": true
   },
   "outputs": [],
   "source": []
  },
  {
   "cell_type": "code",
   "execution_count": null,
   "metadata": {
    "collapsed": true
   },
   "outputs": [],
   "source": []
  },
  {
   "cell_type": "code",
   "execution_count": null,
   "metadata": {
    "collapsed": true
   },
   "outputs": [],
   "source": [
    "class KStrategy:\n",
    "    \"\"\"\n",
    "    K线策略\n",
    "    \"\"\"\n",
    "    def __init__(self,trader=None,listK=None):\n",
    "        self.point = 0 \n",
    "        self.trend = TrendArea()\n",
    "        self.condition = None\n",
    "        self.listK = None\n",
    "        self.trader = None\n",
    "    def init(self,trader,listK):\n",
    "        self.trader = trader\n",
    "        self.listK = listK\n",
    "        self.trend = TrendArea()\n",
    "    def decide(self,i):\n",
    "        k = self.listK[i]\n",
    "        if self.trader.isHold(k.code):\n",
    "            if k.isDown():\n",
    "                self.trader.sell(k.code, k.date, k.close, condition=\"k1\")\n",
    "        else:\n",
    "            if k.isUp():\n",
    "                self.trader.buy(k.code, k.date, k.close, condition=\"k1\")"
   ]
  },
  {
   "cell_type": "code",
   "execution_count": null,
   "metadata": {
    "collapsed": true
   },
   "outputs": [],
   "source": []
  },
  {
   "cell_type": "code",
   "execution_count": null,
   "metadata": {},
   "outputs": [],
   "source": [
    "#测试策略\n",
    "# bDate = \"2008-06-05\"\n",
    "bDate = \"2015-03-05\"\n",
    "eDate = \"2016-11-07\"\n",
    "market = \"sza\"\n",
    "begin = time.time()\n",
    "print 'runing......'\n",
    "trader = Trader()\n",
    "buys = [BuyA()]\n",
    "sells = [SellA(\"a\"),SellB('a'),SellS(\"a\")]\n",
    "s1 = StrategyP(trader,buys,sells)\n",
    "# s1 = MAStrategyS(30)\n",
    "sim1 = ParallelSimulator(s1)\n",
    "sim1.run(market,bDate,eDate)\n",
    "print 'complete %s second' %  (time.time()-begin)"
   ]
  },
  {
   "cell_type": "code",
   "execution_count": null,
   "metadata": {
    "collapsed": true
   },
   "outputs": [],
   "source": [
    "# begin = time.time()\n",
    "# print 'runing......'\n",
    "# s12 = KStrategy2()\n",
    "# sim12 = SequenceSimulator(s12)\n",
    "# sim12.run(market,bDate,eDate,threadCount=0)\n",
    "# print 'complete %s second' %  (time.time()-begin)"
   ]
  },
  {
   "cell_type": "code",
   "execution_count": null,
   "metadata": {},
   "outputs": [],
   "source": [
    "#均线策略\n",
    "begin = time.time()\n",
    "print 'runing......'\n",
    "s2 = MAStrategyS(60)\n",
    "sim2 = SequenceSimulatorS(s2)\n",
    "sim2.run(market,bDate,eDate,threadCount=0)\n",
    "print 'complete %s second' %  (time.time()-begin)"
   ]
  },
  {
   "cell_type": "code",
   "execution_count": null,
   "metadata": {},
   "outputs": [],
   "source": [
    "#K线策略\n",
    "begin = time.time()\n",
    "print 'runing......'\n",
    "ks = KStrategy()\n",
    "simK = SequenceSimulatorS(ks)\n",
    "simK.run(market,bDate,eDate,threadCount=0)\n",
    "print 'complete %s second' %  (time.time()-begin)"
   ]
  },
  {
   "cell_type": "code",
   "execution_count": null,
   "metadata": {
    "collapsed": true
   },
   "outputs": [],
   "source": [
    "#择时收益\n",
    "sim3 = Simulator(RStrategy())\n",
    "sim3.runSingle('zs_000001',begin=bDate,end=eDate)"
   ]
  },
  {
   "cell_type": "code",
   "execution_count": null,
   "metadata": {
    "collapsed": true
   },
   "outputs": [],
   "source": [
    "listK = kd.get_k_data('zs_000001',bDate,eDate)\n",
    "data,volume = ViewDataFactory.getCandlestick(listK)"
   ]
  },
  {
   "cell_type": "code",
   "execution_count": null,
   "metadata": {
    "scrolled": false
   },
   "outputs": [],
   "source": [
    "avgEarningsLine = sim1.trader.earningsLine\n",
    "\n",
    "oddsLine,win,lose,odds = sim2.getOdds()\n",
    "# avgEarningsLine2,maxCode2,maxEarningsLine2,minCode2,minEarningsLine2 = sim12.earningsLines()\n",
    "maEarningsLine,maxCode,maxEarningsLine,minCode,minEarningsLine = sim2.earningsLines()\n",
    "kEarningsLine,kMaxCode,kMaxEarningsLine,kMinCode,kMinEarningsLine = simK.earningsLines()\n",
    "\n",
    "rEarningsLine = sim3.trader.earningsLine\n",
    "\n",
    "\n",
    "params = {}\n",
    "params[\"maxCode\"] = maxCode\n",
    "params[\"minCode\"] = minCode\n",
    "params[\"avgEarningsLine\"] = json.dumps(avgEarningsLine)\n",
    "params[\"avgEarningsLine2\"] = {}#json.dumps(avgEarningsLine2)\n",
    "params[\"maxEarningsLine\"] = json.dumps(maxEarningsLine)\n",
    "params[\"minEarningsLine\"] = json.dumps(minEarningsLine)\n",
    "params[\"maEarningsLine\"] = json.dumps(maEarningsLine)\n",
    "params[\"rEarningsLine\"] = json.dumps(rEarningsLine)\n",
    "params[\"kEarningsLine\"] = json.dumps(kEarningsLine)\n",
    "params[\"oddsLine\"] = json.dumps(oddsLine)\n",
    "params[\"win\"] = json.dumps(win)\n",
    "params[\"lose\"] = json.dumps(lose)\n",
    "params[\"odds\"] = json.dumps(odds)\n",
    "params[\"data\"] = json.dumps(data)\n",
    "params[\"volume\"] = json.dumps(volume)\n",
    "clear_output()\n",
    "s = show(\"Strategy.html\",params)\n"
   ]
  },
  {
   "cell_type": "code",
   "execution_count": null,
   "metadata": {
    "collapsed": true
   },
   "outputs": [],
   "source": []
  },
  {
   "cell_type": "code",
   "execution_count": null,
   "metadata": {
    "collapsed": true
   },
   "outputs": [],
   "source": []
  }
 ],
 "metadata": {
  "kernelspec": {
   "display_name": "Python 2",
   "language": "python",
   "name": "python2"
  },
  "language_info": {
   "codemirror_mode": {
    "name": "ipython",
    "version": 2
   },
   "file_extension": ".py",
   "mimetype": "text/x-python",
   "name": "python",
   "nbconvert_exporter": "python",
   "pygments_lexer": "ipython2",
   "version": "2.7.10"
  }
 },
 "nbformat": 4,
 "nbformat_minor": 1
}
